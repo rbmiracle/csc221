{
 "cells": [
  {
   "cell_type": "code",
   "execution_count": 2,
   "metadata": {},
   "outputs": [],
   "source": [
    "# Group Project\n",
    "# Eric Meehan\n",
    "# 2020-12-01"
   ]
  },
  {
   "cell_type": "code",
   "execution_count": null,
   "metadata": {},
   "outputs": [],
   "source": [
    "# Racial Breakdown of Population for Virginia"
   ]
  },
  {
   "cell_type": "code",
   "execution_count": 14,
   "metadata": {},
   "outputs": [
    {
     "data": {
      "text/plain": [
       "'Virginia - Wikipedia'"
      ]
     },
     "execution_count": 14,
     "metadata": {},
     "output_type": "execute_result"
    }
   ],
   "source": [
    "# Import Utilities and set parameters\n",
    "import urllib.request\n",
    "from bs4 import BeautifulSoup\n",
    "\n",
    "url = \"https://en.wikipedia.org/wiki/Virginia\"\n",
    "page = urllib.request.urlopen(url)\n",
    "soup = BeautifulSoup(page, \"lxml\")\n",
    "soup.title.string"
   ]
  },
  {
   "cell_type": "code",
   "execution_count": 19,
   "metadata": {},
   "outputs": [
    {
     "data": {
      "text/plain": [
       "[<table class=\"wikitable\" style=\"margin:1em auto 1em auto\">\n",
       " <tbody><tr>\n",
       " <td>\n",
       " <table class=\"wikitable\" style=\"margin:0.5em; border:none;\">\n",
       " <tbody><tr>\n",
       " <th colspan=\"2\" style=\"background:#ccf;\">Ethnicity (<a href=\"#CITEREFethnicity\">2019 est.</a>)\n",
       " </th>\n",
       " <td rowspan=\"6\" style=\"border:none\">\n",
       " </td>\n",
       " <th style=\"background:#ccf;\">Largest ancestries by county\n",
       " </th>\n",
       " <th colspan=\"3\" style=\"background:#ccf;\">Ancestry (<a href=\"#CITEREFancestry\">2018 est.</a>)\n",
       " </th></tr>\n",
       " <tr>\n",
       " <td>Non-Hispanic white\n",
       " </td>\n",
       " <td align=\"right\">61.5%\n",
       " </td>\n",
       " <td rowspan=\"5\" style=\"text-align:center; width:280px;\">\n",
       " <p><a class=\"image\" href=\"/wiki/File:Virginia_Ancestries_by_County_2018.svg\"><img alt=\"Virginia counties colored either red, blue, yellow, green, or purple based on the populations most common ancestry. The south-east is predominately purple for African American, while the west is mostly red for American. The north has yellow for German, with two small areas green for Irish. Yellow is also found in spots in the west. A strip in the middle is blue for English.\" data-file-height=\"307\" data-file-width=\"666\" decoding=\"async\" height=\"124\" src=\"//upload.wikimedia.org/wikipedia/commons/thumb/2/26/Virginia_Ancestries_by_County_2018.svg/270px-Virginia_Ancestries_by_County_2018.svg.png\" srcset=\"//upload.wikimedia.org/wikipedia/commons/thumb/2/26/Virginia_Ancestries_by_County_2018.svg/405px-Virginia_Ancestries_by_County_2018.svg.png 1.5x, //upload.wikimedia.org/wikipedia/commons/thumb/2/26/Virginia_Ancestries_by_County_2018.svg/540px-Virginia_Ancestries_by_County_2018.svg.png 2x\" width=\"270\"/></a>\n",
       " <br/>\n",
       " <span style=\"font-size: 80%; line-height: 1.3em\"><a href=\"/wiki/American_Community_Survey\" title=\"American Community Survey\">American Community Survey</a> five-year estimate</span>\n",
       " </p>\n",
       " </td>\n",
       " <td style=\"border-right:0;\"><div class=\"key\" style=\"background:#fc0; width:1.5em; height:1.5em; border:2px solid black;\"></div>\n",
       " </td>\n",
       " <td style=\"border-left:0;\">German\n",
       " </td>\n",
       " <td align=\"right\">11.0%\n",
       " </td></tr>\n",
       " <tr>\n",
       " <td>Black or African American\n",
       " </td>\n",
       " <td align=\"right\">19.9%\n",
       " </td>\n",
       " <td style=\"border-right:0;\"><div class=\"key\" style=\"background:#a00; width:1.5em; height:1.5em; border:2px solid black;\"></div>\n",
       " </td>\n",
       " <td style=\"border-left:0;\">American\n",
       " </td>\n",
       " <td align=\"right\">9.6%\n",
       " </td></tr>\n",
       " <tr>\n",
       " <td>Hispanic or Latino (of any race)\n",
       " </td>\n",
       " <td align=\"right\">9.6%\n",
       " </td>\n",
       " <td style=\"border-right:0;\"><div class=\"key\" style=\"background:#2a7fff; width:1.5em; height:1.5em; border:2px solid black;\"></div>\n",
       " </td>\n",
       " <td style=\"border-left:0;\">English\n",
       " </td>\n",
       " <td align=\"right\">9.5%\n",
       " </td></tr>\n",
       " <tr>\n",
       " <td>Asian\n",
       " </td>\n",
       " <td align=\"right\">6.9%\n",
       " </td>\n",
       " <td style=\"border-right:0;\"><div class=\"key\" style=\"background:green; width:1.5em; height:1.5em; border:2px solid black;\"></div>\n",
       " </td>\n",
       " <td style=\"border-left:0;\">Irish\n",
       " </td>\n",
       " <td align=\"right\">9.3%\n",
       " </td></tr>\n",
       " <tr>\n",
       " <td>American Indian and Alaska Native\n",
       " </td>\n",
       " <td align=\"right\">0.5%\n",
       " </td>\n",
       " <td style=\"border-right:0;\"><div class=\"key\" style=\"background:#5a2ca0; width:1.5em; height:1.5em; border:2px solid black;\"></div>\n",
       " </td>\n",
       " <td style=\"border-left:0;\">Subsaharan African\n",
       " </td>\n",
       " <td align=\"right\">2.3%\n",
       " </td></tr></tbody></table>\n",
       " </td></tr></tbody></table>,\n",
       " <table class=\"wikitable\" style=\"margin:0.5em; border:none;\">\n",
       " <tbody><tr>\n",
       " <th colspan=\"2\" style=\"background:#ccf;\">Ethnicity (<a href=\"#CITEREFethnicity\">2019 est.</a>)\n",
       " </th>\n",
       " <td rowspan=\"6\" style=\"border:none\">\n",
       " </td>\n",
       " <th style=\"background:#ccf;\">Largest ancestries by county\n",
       " </th>\n",
       " <th colspan=\"3\" style=\"background:#ccf;\">Ancestry (<a href=\"#CITEREFancestry\">2018 est.</a>)\n",
       " </th></tr>\n",
       " <tr>\n",
       " <td>Non-Hispanic white\n",
       " </td>\n",
       " <td align=\"right\">61.5%\n",
       " </td>\n",
       " <td rowspan=\"5\" style=\"text-align:center; width:280px;\">\n",
       " <p><a class=\"image\" href=\"/wiki/File:Virginia_Ancestries_by_County_2018.svg\"><img alt=\"Virginia counties colored either red, blue, yellow, green, or purple based on the populations most common ancestry. The south-east is predominately purple for African American, while the west is mostly red for American. The north has yellow for German, with two small areas green for Irish. Yellow is also found in spots in the west. A strip in the middle is blue for English.\" data-file-height=\"307\" data-file-width=\"666\" decoding=\"async\" height=\"124\" src=\"//upload.wikimedia.org/wikipedia/commons/thumb/2/26/Virginia_Ancestries_by_County_2018.svg/270px-Virginia_Ancestries_by_County_2018.svg.png\" srcset=\"//upload.wikimedia.org/wikipedia/commons/thumb/2/26/Virginia_Ancestries_by_County_2018.svg/405px-Virginia_Ancestries_by_County_2018.svg.png 1.5x, //upload.wikimedia.org/wikipedia/commons/thumb/2/26/Virginia_Ancestries_by_County_2018.svg/540px-Virginia_Ancestries_by_County_2018.svg.png 2x\" width=\"270\"/></a>\n",
       " <br/>\n",
       " <span style=\"font-size: 80%; line-height: 1.3em\"><a href=\"/wiki/American_Community_Survey\" title=\"American Community Survey\">American Community Survey</a> five-year estimate</span>\n",
       " </p>\n",
       " </td>\n",
       " <td style=\"border-right:0;\"><div class=\"key\" style=\"background:#fc0; width:1.5em; height:1.5em; border:2px solid black;\"></div>\n",
       " </td>\n",
       " <td style=\"border-left:0;\">German\n",
       " </td>\n",
       " <td align=\"right\">11.0%\n",
       " </td></tr>\n",
       " <tr>\n",
       " <td>Black or African American\n",
       " </td>\n",
       " <td align=\"right\">19.9%\n",
       " </td>\n",
       " <td style=\"border-right:0;\"><div class=\"key\" style=\"background:#a00; width:1.5em; height:1.5em; border:2px solid black;\"></div>\n",
       " </td>\n",
       " <td style=\"border-left:0;\">American\n",
       " </td>\n",
       " <td align=\"right\">9.6%\n",
       " </td></tr>\n",
       " <tr>\n",
       " <td>Hispanic or Latino (of any race)\n",
       " </td>\n",
       " <td align=\"right\">9.6%\n",
       " </td>\n",
       " <td style=\"border-right:0;\"><div class=\"key\" style=\"background:#2a7fff; width:1.5em; height:1.5em; border:2px solid black;\"></div>\n",
       " </td>\n",
       " <td style=\"border-left:0;\">English\n",
       " </td>\n",
       " <td align=\"right\">9.5%\n",
       " </td></tr>\n",
       " <tr>\n",
       " <td>Asian\n",
       " </td>\n",
       " <td align=\"right\">6.9%\n",
       " </td>\n",
       " <td style=\"border-right:0;\"><div class=\"key\" style=\"background:green; width:1.5em; height:1.5em; border:2px solid black;\"></div>\n",
       " </td>\n",
       " <td style=\"border-left:0;\">Irish\n",
       " </td>\n",
       " <td align=\"right\">9.3%\n",
       " </td></tr>\n",
       " <tr>\n",
       " <td>American Indian and Alaska Native\n",
       " </td>\n",
       " <td align=\"right\">0.5%\n",
       " </td>\n",
       " <td style=\"border-right:0;\"><div class=\"key\" style=\"background:#5a2ca0; width:1.5em; height:1.5em; border:2px solid black;\"></div>\n",
       " </td>\n",
       " <td style=\"border-left:0;\">Subsaharan African\n",
       " </td>\n",
       " <td align=\"right\">2.3%\n",
       " </td></tr></tbody></table>,\n",
       " <table class=\"wikitable succession-box\" style=\"margin:0.5em auto; font-size:95%;clear:both;\">\n",
       " <tbody><tr style=\"text-align:center;\">\n",
       " <td rowspan=\"1\" style=\"width:30%;\">Preceded by<br/><span style=\"font-weight: bold\"><a href=\"/wiki/New_Hampshire\" title=\"New Hampshire\">New Hampshire</a></span>\n",
       " </td>\n",
       " <td rowspan=\"1\" style=\"width: 40%; text-align: center;\"><b> <a href=\"/wiki/List_of_U.S._states_by_date_of_admission_to_the_Union\" title=\"List of U.S. states by date of admission to the Union\">List of U.S. states by date of admission to the Union</a></b><br/>Ratified <a class=\"mw-redirect\" href=\"/wiki/United_States_Constitution\" title=\"United States Constitution\">Constitution</a> on June 25, 1788 (10th)\n",
       " </td>\n",
       " <td rowspan=\"1\" style=\"width: 30%; text-align: center;\">Succeeded by<br/><span style=\"font-weight: bold\"><a href=\"/wiki/New_York_(state)\" title=\"New York (state)\">New York</a></span>\n",
       " </td></tr>\n",
       " </tbody></table>]"
      ]
     },
     "execution_count": 19,
     "metadata": {},
     "output_type": "execute_result"
    }
   ],
   "source": [
    "# Find the table referring to climate data\n",
    "\n",
    "all_sortable_tables = soup.find_all('table', class_=\"wikitable\")\n",
    "all_sortable_tables"
   ]
  },
  {
   "cell_type": "code",
   "execution_count": 20,
   "metadata": {},
   "outputs": [
    {
     "data": {
      "text/plain": [
       "<table class=\"wikitable\" style=\"margin:1em auto 1em auto\">\n",
       "<tbody><tr>\n",
       "<td>\n",
       "<table class=\"wikitable\" style=\"margin:0.5em; border:none;\">\n",
       "<tbody><tr>\n",
       "<th colspan=\"2\" style=\"background:#ccf;\">Ethnicity (<a href=\"#CITEREFethnicity\">2019 est.</a>)\n",
       "</th>\n",
       "<td rowspan=\"6\" style=\"border:none\">\n",
       "</td>\n",
       "<th style=\"background:#ccf;\">Largest ancestries by county\n",
       "</th>\n",
       "<th colspan=\"3\" style=\"background:#ccf;\">Ancestry (<a href=\"#CITEREFancestry\">2018 est.</a>)\n",
       "</th></tr>\n",
       "<tr>\n",
       "<td>Non-Hispanic white\n",
       "</td>\n",
       "<td align=\"right\">61.5%\n",
       "</td>\n",
       "<td rowspan=\"5\" style=\"text-align:center; width:280px;\">\n",
       "<p><a class=\"image\" href=\"/wiki/File:Virginia_Ancestries_by_County_2018.svg\"><img alt=\"Virginia counties colored either red, blue, yellow, green, or purple based on the populations most common ancestry. The south-east is predominately purple for African American, while the west is mostly red for American. The north has yellow for German, with two small areas green for Irish. Yellow is also found in spots in the west. A strip in the middle is blue for English.\" data-file-height=\"307\" data-file-width=\"666\" decoding=\"async\" height=\"124\" src=\"//upload.wikimedia.org/wikipedia/commons/thumb/2/26/Virginia_Ancestries_by_County_2018.svg/270px-Virginia_Ancestries_by_County_2018.svg.png\" srcset=\"//upload.wikimedia.org/wikipedia/commons/thumb/2/26/Virginia_Ancestries_by_County_2018.svg/405px-Virginia_Ancestries_by_County_2018.svg.png 1.5x, //upload.wikimedia.org/wikipedia/commons/thumb/2/26/Virginia_Ancestries_by_County_2018.svg/540px-Virginia_Ancestries_by_County_2018.svg.png 2x\" width=\"270\"/></a>\n",
       "<br/>\n",
       "<span style=\"font-size: 80%; line-height: 1.3em\"><a href=\"/wiki/American_Community_Survey\" title=\"American Community Survey\">American Community Survey</a> five-year estimate</span>\n",
       "</p>\n",
       "</td>\n",
       "<td style=\"border-right:0;\"><div class=\"key\" style=\"background:#fc0; width:1.5em; height:1.5em; border:2px solid black;\"></div>\n",
       "</td>\n",
       "<td style=\"border-left:0;\">German\n",
       "</td>\n",
       "<td align=\"right\">11.0%\n",
       "</td></tr>\n",
       "<tr>\n",
       "<td>Black or African American\n",
       "</td>\n",
       "<td align=\"right\">19.9%\n",
       "</td>\n",
       "<td style=\"border-right:0;\"><div class=\"key\" style=\"background:#a00; width:1.5em; height:1.5em; border:2px solid black;\"></div>\n",
       "</td>\n",
       "<td style=\"border-left:0;\">American\n",
       "</td>\n",
       "<td align=\"right\">9.6%\n",
       "</td></tr>\n",
       "<tr>\n",
       "<td>Hispanic or Latino (of any race)\n",
       "</td>\n",
       "<td align=\"right\">9.6%\n",
       "</td>\n",
       "<td style=\"border-right:0;\"><div class=\"key\" style=\"background:#2a7fff; width:1.5em; height:1.5em; border:2px solid black;\"></div>\n",
       "</td>\n",
       "<td style=\"border-left:0;\">English\n",
       "</td>\n",
       "<td align=\"right\">9.5%\n",
       "</td></tr>\n",
       "<tr>\n",
       "<td>Asian\n",
       "</td>\n",
       "<td align=\"right\">6.9%\n",
       "</td>\n",
       "<td style=\"border-right:0;\"><div class=\"key\" style=\"background:green; width:1.5em; height:1.5em; border:2px solid black;\"></div>\n",
       "</td>\n",
       "<td style=\"border-left:0;\">Irish\n",
       "</td>\n",
       "<td align=\"right\">9.3%\n",
       "</td></tr>\n",
       "<tr>\n",
       "<td>American Indian and Alaska Native\n",
       "</td>\n",
       "<td align=\"right\">0.5%\n",
       "</td>\n",
       "<td style=\"border-right:0;\"><div class=\"key\" style=\"background:#5a2ca0; width:1.5em; height:1.5em; border:2px solid black;\"></div>\n",
       "</td>\n",
       "<td style=\"border-left:0;\">Subsaharan African\n",
       "</td>\n",
       "<td align=\"right\">2.3%\n",
       "</td></tr></tbody></table>\n",
       "</td></tr></tbody></table>"
      ]
     },
     "execution_count": 20,
     "metadata": {},
     "output_type": "execute_result"
    }
   ],
   "source": [
    "# Specify the first table for data collection\n",
    "right_table = all_sortable_tables[0]\n",
    "right_table"
   ]
  },
  {
   "cell_type": "code",
   "execution_count": 43,
   "metadata": {},
   "outputs": [
    {
     "name": "stdout",
     "output_type": "stream",
     "text": [
      "['61.5%\\n', '19.9%\\n', '9.6%\\n', '6.9%\\n', '0.5%\\n']\n",
      "['Non-Hispanic white\\n', 'Black or African American\\n', 'Hispanic or Latino (of any race)\\n', 'Asian\\n', 'American Indian and Alaska Native\\n']\n"
     ]
    }
   ],
   "source": [
    "# Scrape data from cells\n",
    "Ethnicities = []\n",
    "Percentages = []\n",
    "for row in right_table.findAll('tr'):\n",
    "    cells = row.findAll('td')\n",
    "    if len(cells) == 5 or len(cells) == 6:\n",
    "        Ethnicities.append(cells[0].find(text=True))\n",
    "        Percentages.append(cells[1].find(text=True))"
   ]
  },
  {
   "cell_type": "code",
   "execution_count": 45,
   "metadata": {},
   "outputs": [],
   "source": [
    "# Format the data\n",
    "for i in range(len(Ethnicities)):\n",
    "        Ethnicities[i] = Ethnicities[i].replace(\"\\n\", \"\")\n",
    "for i in range(len(Percentages)):\n",
    "        Percentages[i] = float(Percentages[i].replace(\"%\\n\", \"\"))"
   ]
  },
  {
   "cell_type": "code",
   "execution_count": 51,
   "metadata": {},
   "outputs": [],
   "source": [
    "# Generating a graph\n",
    "# Import tools\n",
    "from matplotlib import pyplot as plt\n",
    "import numpy as np"
   ]
  },
  {
   "cell_type": "code",
   "execution_count": 52,
   "metadata": {},
   "outputs": [
    {
     "data": {
      "image/png": "[encoded data removed]",
      "text/plain": [
       "<Figure size 720x720 with 1 Axes>"
      ]
     },
     "metadata": {
      "needs_background": "light"
     },
     "output_type": "display_data"
    }
   ],
   "source": [
    "# Generate a graph to display the data\n",
    "Percentages = np.array(Percentages)\n",
    "plt.figure(figsize=(10,10))\n",
    "plt.bar(range(0, 5), Percentages)\n",
    "plt.xticks(range(0, len(Percentages)), Ethnicities)\n",
    "plt.show()"
   ]
  },
  {
   "cell_type": "code",
   "execution_count": null,
   "metadata": {},
   "outputs": [],
   "source": []
  }
 ],
 "metadata": {
  "kernelspec": {
   "display_name": "Python 3",
   "language": "python",
   "name": "python3"
  },
  "language_info": {
   "codemirror_mode": {
    "name": "ipython",
    "version": 3
   },
   "file_extension": ".py",
   "mimetype": "text/x-python",
   "name": "python",
   "nbconvert_exporter": "python",
   "pygments_lexer": "ipython3",
   "version": "3.8.3"
  }
 },
 "nbformat": 4,
 "nbformat_minor": 4
}
